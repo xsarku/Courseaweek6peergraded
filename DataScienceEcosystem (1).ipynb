{
 "cells": [
  {
   "cell_type": "markdown",
   "id": "3b3ceaab-e2a4-45ac-aed3-33389415f2f8",
   "metadata": {},
   "source": [
    "# Data Science Tools and Ecosystems"
   ]
  },
  {
   "cell_type": "markdown",
   "id": "231aa669-a1f2-48da-9983-0de03a65b521",
   "metadata": {},
   "source": [
    "In this notebook, Data Science Tools and Ecosystems are summarized "
   ]
  },
  {
   "cell_type": "markdown",
   "id": "768f39cb-3776-43e8-af75-660893c6123b",
   "metadata": {},
   "source": [
    "**Objectives:**\n",
    "\n",
    "- Learn about languages used in data science\n",
    "- Popular tools used in data science\n",
    "- How to use jupyter, R, and GitHub"
   ]
  },
  {
   "cell_type": "markdown",
   "id": "6006190f-f1a5-4c3c-8f10-b24a3c58d3d9",
   "metadata": {},
   "source": [
    "Some of the popular languages that Data Scientist use are:\n",
    "1. R\n",
    "2. Python \n",
    "3. Java"
   ]
  },
  {
   "cell_type": "markdown",
   "id": "1e42a7ed-317f-4773-8b19-a1b3e0b066c0",
   "metadata": {},
   "source": [
    "Some of the commonly used libraries used by Data Scientists include: \n",
    "1. ggplot2\n",
    "2. Matplotlib\n",
    "3. Pandas\n",
    "4. Tensorflow"
   ]
  },
  {
   "cell_type": "markdown",
   "id": "87b4479e-fd88-4b99-a0a0-68fef60c8783",
   "metadata": {},
   "source": [
    "|Data Science Tools |\n",
    "| ------ | \n",
    "| Jupyter Notebook | \n",
    "| Spyder | \n",
    "| Anaconda | \n"
   ]
  },
  {
   "cell_type": "markdown",
   "id": "af6061a0-fd15-4af6-8076-04e6cf68b0dc",
   "metadata": {},
   "source": [
    "### Below are a few examples of evaluating arithmetic expressions in Python"
   ]
  },
  {
   "cell_type": "code",
   "execution_count": 1,
   "id": "282e66b6-1e28-461d-aa6a-f1291701e651",
   "metadata": {
    "tags": []
   },
   "outputs": [
    {
     "data": {
      "text/plain": [
       "17"
      ]
     },
     "execution_count": 1,
     "metadata": {},
     "output_type": "execute_result"
    }
   ],
   "source": [
    "#this is a simple arithmetic expression to multiply then add integers\n",
    "(3*4)+5"
   ]
  },
  {
   "cell_type": "code",
   "execution_count": 2,
   "id": "460dcf0b-5056-4f34-a0e3-3d4e0a42b23e",
   "metadata": {
    "tags": []
   },
   "outputs": [
    {
     "data": {
      "text/plain": [
       "3.3333333333333335"
      ]
     },
     "execution_count": 2,
     "metadata": {},
     "output_type": "execute_result"
    }
   ],
   "source": [
    "#This will convert 200 minutes to hours by dividing by 60\n",
    "200/60"
   ]
  },
  {
   "cell_type": "markdown",
   "id": "a0ff7d37-f50e-4968-90fc-923cb86e37f5",
   "metadata": {},
   "source": [
    "## Author\n",
    "\n",
    "Sara Kullström "
   ]
  },
  {
   "cell_type": "code",
   "execution_count": null,
   "id": "21371808-29ee-4f74-95e9-6c6eac9360da",
   "metadata": {},
   "outputs": [],
   "source": []
  }
 ],
 "metadata": {
  "kernelspec": {
   "display_name": "Python",
   "language": "python",
   "name": "conda-env-python-py"
  },
  "language_info": {
   "codemirror_mode": {
    "name": "ipython",
    "version": 3
   },
   "file_extension": ".py",
   "mimetype": "text/x-python",
   "name": "python",
   "nbconvert_exporter": "python",
   "pygments_lexer": "ipython3",
   "version": "3.7.12"
  }
 },
 "nbformat": 4,
 "nbformat_minor": 5
}
